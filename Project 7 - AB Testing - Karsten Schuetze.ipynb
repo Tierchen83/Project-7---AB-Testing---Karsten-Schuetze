{
 "cells": [
  {
   "cell_type": "markdown",
   "metadata": {},
   "source": [
    "### 1. Settings and imports"
   ]
  },
  {
   "cell_type": "code",
   "execution_count": 1,
   "metadata": {},
   "outputs": [],
   "source": [
    "#Import\n",
    "import pandas as pd\n",
    "import numpy as np\n",
    "#%matplotlib inline\n",
    "import seaborn as sns\n",
    "sns.set_style('darkgrid')\n",
    "import seaborn as sns\n",
    "sns.set(style=\"ticks\")\n"
   ]
  },
  {
   "cell_type": "code",
   "execution_count": 2,
   "metadata": {},
   "outputs": [
    {
     "data": {
      "text/html": [
       "<div>\n",
       "<style scoped>\n",
       "    .dataframe tbody tr th:only-of-type {\n",
       "        vertical-align: middle;\n",
       "    }\n",
       "\n",
       "    .dataframe tbody tr th {\n",
       "        vertical-align: top;\n",
       "    }\n",
       "\n",
       "    .dataframe thead th {\n",
       "        text-align: right;\n",
       "    }\n",
       "</style>\n",
       "<table border=\"1\" class=\"dataframe\">\n",
       "  <thead>\n",
       "    <tr style=\"text-align: right;\">\n",
       "      <th></th>\n",
       "      <th>metric</th>\n",
       "      <th>baseline_val</th>\n",
       "    </tr>\n",
       "  </thead>\n",
       "  <tbody>\n",
       "    <tr>\n",
       "      <td>0</td>\n",
       "      <td>Unique cookies to view page per day:</td>\n",
       "      <td>40000.000000</td>\n",
       "    </tr>\n",
       "    <tr>\n",
       "      <td>1</td>\n",
       "      <td>Unique cookies to click \"Start free trial\" per...</td>\n",
       "      <td>3200.000000</td>\n",
       "    </tr>\n",
       "    <tr>\n",
       "      <td>2</td>\n",
       "      <td>Enrollments per day:</td>\n",
       "      <td>660.000000</td>\n",
       "    </tr>\n",
       "    <tr>\n",
       "      <td>3</td>\n",
       "      <td>Click-through-probability on \"Start free trial\":</td>\n",
       "      <td>0.080000</td>\n",
       "    </tr>\n",
       "    <tr>\n",
       "      <td>4</td>\n",
       "      <td>Probability of enrolling, given click:</td>\n",
       "      <td>0.206250</td>\n",
       "    </tr>\n",
       "    <tr>\n",
       "      <td>5</td>\n",
       "      <td>Probability of payment, given enroll:</td>\n",
       "      <td>0.530000</td>\n",
       "    </tr>\n",
       "    <tr>\n",
       "      <td>6</td>\n",
       "      <td>Probability of payment, given click</td>\n",
       "      <td>0.109313</td>\n",
       "    </tr>\n",
       "  </tbody>\n",
       "</table>\n",
       "</div>"
      ],
      "text/plain": [
       "                                              metric  baseline_val\n",
       "0               Unique cookies to view page per day:  40000.000000\n",
       "1  Unique cookies to click \"Start free trial\" per...   3200.000000\n",
       "2                               Enrollments per day:    660.000000\n",
       "3   Click-through-probability on \"Start free trial\":      0.080000\n",
       "4             Probability of enrolling, given click:      0.206250\n",
       "5              Probability of payment, given enroll:      0.530000\n",
       "6                Probability of payment, given click      0.109313"
      ]
     },
     "execution_count": 2,
     "metadata": {},
     "output_type": "execute_result"
    }
   ],
   "source": [
    "basline = pd.read_csv(\"data/baseline.csv\", index_col=False,header = None, names = ['metric','baseline_val'])\n",
    "basline"
   ]
  },
  {
   "cell_type": "markdown",
   "metadata": {},
   "source": [
    "## 2. Metric Choice"
   ]
  },
  {
   "cell_type": "markdown",
   "metadata": {},
   "source": [
    "### Answer student metric choice\n",
    "In order to answer this question let us remind ourselves of the definition:\n",
    "Invariant metric is a metric that should not be affected by the changes in the experiment\n",
    "Evaluation metrics are metrics used to measure the impact or the changes made in the experiment\n",
    "\n",
    "### Invariant metrics:\n",
    "- Number of cookies: That is, number of unique cookies to view the course overview page.\n",
    "As this is the  unit of diversion, we can expect an even distribution amongst the control and experiment groups. Hence, it is an appropriate invariant metric.\n",
    "\n",
    "- Number of clicks: That is, number of unique cookies to click the \"Start free trial\" button.\n",
    "As this happens before the free trial screener is triggered, we can again expect an even distribution amongst the control and experiment groups or in other words: at this stage of the funnel the experience is the same for all \n",
    "\n",
    "- Click-through-probability: That is, number of unique cookies to click the \"Start free trial\" button divided by number of unique cookies to view the course overview page.\n",
    "Same reasoning as for cookies and clicks: we can again expect an even distribution amongst the control and experiment groups or in other words: at this stage of the funnel the experience is the same for all \n",
    "\n",
    "### Evaluation metrics\n",
    "- Gross conversion: That is, number of user-ids to complete checkout and enroll in the free trial divided by number of unique cookies to click the \"Start free trial\" button.\n",
    "    - Clearly these are metrics measuring the impact of the experiment or in other words the success (checkout, enrollment) or failure of the experiment. Hence, it an evaluation metrics \n",
    "    - **This is the metric we want to decrease as it would be connected to less student frustration and less students leaving\tafter the free trial**\n",
    "\n",
    "- Net conversion: That is, number of user-ids to remain enrolled past the 14-day boundary (and thus make at least one payment) divided by the number of unique cookies to click the \"Start free trial\" button.\n",
    "    - Clearly these are metrics measuring the impact of the experiment or in other words the success (remaining enrollment and hence pay) or failure (not enrolled more than 14d) of the experiment. Hence, it an evaluation metrics\n",
    "    - **This is the metric we want to increase as it would be connected to less student frustration and more students staying\tafter the free trial**\n",
    "    \n",
    "### For which results would we wish to launch the experiment?\n",
    "- Gross conversion: This is the metric we want to decrease as it would be connected to less student frustration and less students leaving\tafter the free trial\n",
    "- Net conversion: This is the metric we want to increase as it would be connected to less student frustration and more students staying after the free trial\n",
    "\n",
    "\n",
    "\n",
    "### Comment on remaining metrics \n",
    "In the frame of the Final Project quiz two metrics seem unused so we disregard them for now:\n",
    "Number of user-ids: That is, number of users who enroll in the free trial.\n",
    "Retention: That is, number of user-ids to remain enrolled past the 14-day boundary (and thus make at least one payment) divided by number of user-ids to complete checkout.\n",
    "Could probably also be used as an evaluation metric \n"
   ]
  },
  {
   "cell_type": "markdown",
   "metadata": {},
   "source": [
    "## 3. Measuring Standard Deviation"
   ]
  },
  {
   "cell_type": "markdown",
   "metadata": {},
   "source": [
    "**Comment User**\n",
    "\n",
    "We are calculating the analytical standard deviation for our two evaluation metrics: **Gross conversion and Net conversion**\n",
    "\n",
    "We are using the following formula:\n",
    "\n",
    "$Gross Conv STDV= \\sqrt{Probability of enrolling* (1 - Probability of enrolling) / (Page views * Unique cookies to click \"Start free trial\" p.d.)/Unique cookies to view course overview page p.d. )}$ \n",
    "\n",
    "$Net Conv STDV= \\sqrt{Probability of payment given click * (1 - Probability of payment given click) / (Page views * Unique cookies to click \"Start free trial\" p.d.)/Unique cookies to view course overview page p.d. )}$ \n"
   ]
  },
  {
   "cell_type": "markdown",
   "metadata": {},
   "source": [
    "Set up variables"
   ]
  },
  {
   "cell_type": "code",
   "execution_count": 3,
   "metadata": {},
   "outputs": [],
   "source": [
    "unique_cookies_view = 40000\n",
    "unique_cookies_click = 3200\n",
    "enroll_pd=660\n",
    "pageviews = 5000\n",
    "prob_enroll=0.206250\n",
    "prob_pay = 0.530000\n",
    "prob_pay_click = 0.109313\n",
    "ctr_start_free=0.08\n"
   ]
  },
  {
   "cell_type": "code",
   "execution_count": 4,
   "metadata": {},
   "outputs": [
    {
     "name": "stdout",
     "output_type": "stream",
     "text": [
      "GrossConvSTDV_rounded: 0.0202\n"
     ]
    }
   ],
   "source": [
    "GrossConvSTDV = np.sqrt((prob_enroll*(1-prob_enroll))/(pageviews*unique_cookies_click/unique_cookies_view))\n",
    "GrossConvSTDV_rounded=round(GrossConvSTDV,4)\n",
    "print(\"GrossConvSTDV_rounded: \" + str(GrossConvSTDV_rounded))"
   ]
  },
  {
   "cell_type": "code",
   "execution_count": 5,
   "metadata": {},
   "outputs": [
    {
     "name": "stdout",
     "output_type": "stream",
     "text": [
      "NetConvSTDV_rounded: 0.0156\n"
     ]
    }
   ],
   "source": [
    "NetConvSTDV = np.sqrt((prob_pay_click*(1-prob_pay_click))/(pageviews*unique_cookies_click/unique_cookies_view))\n",
    "NetConvSTDV_rounded=round(NetConvSTDV,4)\n",
    "print(\"NetConvSTDV_rounded: \" + str(NetConvSTDV_rounded))"
   ]
  },
  {
   "cell_type": "markdown",
   "metadata": {},
   "source": [
    "**Comment User**\n",
    "\n",
    "Additionally we calculate the standard dev of the retention"
   ]
  },
  {
   "cell_type": "code",
   "execution_count": 6,
   "metadata": {},
   "outputs": [
    {
     "name": "stdout",
     "output_type": "stream",
     "text": [
      "RetentionSTDV_rounded: 0.0549\n"
     ]
    }
   ],
   "source": [
    "RetentionSTDV = np.sqrt((prob_pay*(1-prob_pay))/(pageviews*enroll_pd/unique_cookies_view))\n",
    "RetentionSTDV_rounded=round(RetentionSTDV,4)\n",
    "print(\"RetentionSTDV_rounded: \" + str(RetentionSTDV_rounded))"
   ]
  },
  {
   "cell_type": "markdown",
   "metadata": {},
   "source": [
    "**Further User comments**\n",
    "\n",
    "We are also checking the empirical variability of the gross and net conversion to check against. To do so, we need to import control and experiment data.\n",
    "\n",
    "After this step, we calculate the gross and net converstion per day and determine the standard deviation of this result for all 23 data points. This is to say: we calculate the average of the std dev per day, calculate the delta between the std dev per day and the average, which we take times and sum up for all days. After this, we divide by the number of samples (23) and take the square root.\n"
   ]
  },
  {
   "cell_type": "code",
   "execution_count": 7,
   "metadata": {},
   "outputs": [
    {
     "name": "stdout",
     "output_type": "stream",
     "text": [
      "Control group: GrossConvSTDV_rounded_empirical: 0.044\n",
      "Control group: NetConvSTDV_rounded_empirical: 0.0294\n"
     ]
    }
   ],
   "source": [
    "control  = pd.read_csv(\"data/control.csv\")\n",
    "control[\"Grossperday\"]= control[\"Enrollments\"]/control[\"Clicks\"]\n",
    "control[\"Netperday\"]= control[\"Payments\"]/control[\"Clicks\"]\n",
    "\n",
    "GrossConvSTDV_rounded_empirical=round(control[\"Grossperday\"].std(),4)\n",
    "NetConvSTDV_rounded_empirical=round(control[\"Netperday\"].std(),4)\n",
    "print(\"Control group: GrossConvSTDV_rounded_empirical: \" + str(GrossConvSTDV_rounded_empirical))\n",
    "print(\"Control group: NetConvSTDV_rounded_empirical: \" + str(NetConvSTDV_rounded_empirical))"
   ]
  },
  {
   "cell_type": "code",
   "execution_count": 8,
   "metadata": {},
   "outputs": [
    {
     "name": "stdout",
     "output_type": "stream",
     "text": [
      "Experiment group: GrossConvSTDV_rounded_empirical_exp: 0.0475\n",
      "Experiment group: NetConvSTDV_rounded_empirical_exp: 0.0322\n"
     ]
    }
   ],
   "source": [
    "experiment  = pd.read_csv(\"data/experiment.csv\")\n",
    "experiment[\"Grossperday\"]= experiment[\"Enrollments\"]/experiment[\"Clicks\"]\n",
    "experiment[\"Netperday\"]= experiment[\"Payments\"]/experiment[\"Clicks\"]\n",
    "\n",
    "GrossConvSTDV_rounded_empirical_exp=round(experiment[\"Grossperday\"].std(),4)\n",
    "NetConvSTDV_rounded_empirical_exp=round(experiment[\"Netperday\"].std(),4)\n",
    "print(\"Experiment group: GrossConvSTDV_rounded_empirical_exp: \" + str(GrossConvSTDV_rounded_empirical_exp))\n",
    "print(\"Experiment group: NetConvSTDV_rounded_empirical_exp: \" + str(NetConvSTDV_rounded_empirical_exp))"
   ]
  },
  {
   "cell_type": "markdown",
   "metadata": {},
   "source": [
    "## 4. Sizing"
   ]
  },
  {
   "cell_type": "markdown",
   "metadata": {},
   "source": [
    "**4.1 Answer student: Bonferroni correction**\n",
    "\n",
    "\n",
    "Usually the Bonferroni correction is used to adjust p-values in order to control the family-wise error rate (FWER) in multiple hypothesis testing or in other words the purpose is to reduce the probability of a type I error (false-positive) when making a larger number of hypothesis tests.\n",
    "\n",
    "See: https://www.investopedia.com/terms/b/bonferroni-test.asp\n",
    "\n",
    "In this case we are only a control and experimental group with 23 observations. Hence, the number of tests is fairly small and **I will not use the Bonferroni correction.**\n",
    "\n",
    "Besides, the Bonferroni correction is known for some quite heavy assumptions:\n",
    "  - Conservative approach resulting in quite low adjusted significance levels, which can make it quite difficult to detect true effects \n",
    "  - Independence assumption:  Bonferroni correction assumes tests to be conducted independent of each other. This is not necessarily the case for Gross and Net Conversion\n",
    "  - Type II error rate:  Bonferroni correction can indirectly affect the Type 2 error rate\n",
    "\n",
    "\n",
    "**4.2 Calculation of the sizing algorithm:**\n",
    "1. First, we will need the **analytical standard deviations** from part 3 for gross and net conversion --> given from 3\n",
    "2. **Minimum Detectable Effect** that is given by dmin=0.01 and dmin= 0.0075\n",
    "3. We also need the **baseline conversion rates** for both metrics --> given by Probability of enrolling, given click and Probability of payment, given click\n",
    "4. **Sample Size**: using the inputs from 2 and 3 allows us to calculate the sample size using a calculator like https://www.evanmiller.org/ab-testing/sample-size.html\n",
    "5. **Total sample size:** Sample size * number of groups (2: control and experiment)\n",
    "6. **Number of page views:** = Total Sample Size / / Click-through-probability on \"Start free trial\" for each metric\n",
    "7. **Maximum number of page view**: take the higher number in 6.\n",
    "\n",
    "\n"
   ]
  },
  {
   "cell_type": "markdown",
   "metadata": {},
   "source": [
    "**Calculation**\n",
    "\n",
    "1. **Analytical standard deviations**"
   ]
  },
  {
   "cell_type": "code",
   "execution_count": 9,
   "metadata": {},
   "outputs": [
    {
     "name": "stdout",
     "output_type": "stream",
     "text": [
      "GrossConvSTDV_rounded: 0.0202\n",
      "NetConvSTDV_rounded: 0.0156\n"
     ]
    }
   ],
   "source": [
    "print(\"GrossConvSTDV_rounded: \" + str(GrossConvSTDV_rounded))\n",
    "print(\"NetConvSTDV_rounded: \" + str(NetConvSTDV_rounded))\n"
   ]
  },
  {
   "cell_type": "markdown",
   "metadata": {},
   "source": [
    "2. **Minimum Detectable Effect** "
   ]
  },
  {
   "cell_type": "code",
   "execution_count": 10,
   "metadata": {},
   "outputs": [
    {
     "name": "stdout",
     "output_type": "stream",
     "text": [
      "min_det_eff_gross: 0.01\n",
      "min_det_eff_net: 0.0075\n"
     ]
    }
   ],
   "source": [
    "min_det_eff_gross = 0.01\n",
    "min_det_eff_net = 0.0075\n",
    "print(\"min_det_eff_gross: \" + str(min_det_eff_gross))\n",
    "print(\"min_det_eff_net: \" + str(min_det_eff_net))\n"
   ]
  },
  {
   "cell_type": "markdown",
   "metadata": {},
   "source": [
    "3. **Baseline conversion rates**"
   ]
  },
  {
   "cell_type": "code",
   "execution_count": 11,
   "metadata": {},
   "outputs": [
    {
     "name": "stdout",
     "output_type": "stream",
     "text": [
      "baseline_gross: 0.20625\n",
      "baseline_net: 0.109313\n"
     ]
    }
   ],
   "source": [
    "baseline_gross = prob_enroll\n",
    "baseline_net = prob_pay_click \n",
    "print(\"baseline_gross: \" + str(baseline_gross))\n",
    "print(\"baseline_net: \" + str(baseline_net))\n"
   ]
  },
  {
   "cell_type": "markdown",
   "metadata": {},
   "source": [
    "4. **Sample Size**\n",
    "\n",
    "Remark: we are using the min. detectable effect as well as the baseline convesion rates to calculate the sample size using this sample size genernator:\n",
    "https://www.evanmiller.org/ab-testing/sample-size.html"
   ]
  },
  {
   "cell_type": "code",
   "execution_count": 12,
   "metadata": {},
   "outputs": [
    {
     "name": "stdout",
     "output_type": "stream",
     "text": [
      "sample_size_gross: 25835\n",
      "sample_size_net: 27413\n"
     ]
    }
   ],
   "source": [
    "sample_size_gross = 25835\n",
    "sample_size_net = 27413\n",
    "\n",
    "print(\"sample_size_gross: \" + str(sample_size_gross))\n",
    "print(\"sample_size_net: \" + str(sample_size_net))\n",
    "\n"
   ]
  },
  {
   "cell_type": "markdown",
   "metadata": {},
   "source": [
    "**5. Total sample size:**\n",
    "\n",
    "Sample size * number of groups (2: control and experiment)"
   ]
  },
  {
   "cell_type": "code",
   "execution_count": 13,
   "metadata": {},
   "outputs": [
    {
     "name": "stdout",
     "output_type": "stream",
     "text": [
      "total_sample_size_gross: 51670\n",
      "total_sample_size_net: 54826\n"
     ]
    }
   ],
   "source": [
    "total_sample_size_gross = sample_size_gross * 2\n",
    "total_sample_size_net = sample_size_net * 2\n",
    "\n",
    "print(\"total_sample_size_gross: \" + str(total_sample_size_gross))\n",
    "print(\"total_sample_size_net: \" + str(total_sample_size_net))\n"
   ]
  },
  {
   "cell_type": "markdown",
   "metadata": {},
   "source": [
    "6. **Number of page views:**\n",
    "\n",
    "Total Sample Size / / Click-through-probability on \"Start free trial\" for each metric"
   ]
  },
  {
   "cell_type": "code",
   "execution_count": 14,
   "metadata": {},
   "outputs": [
    {
     "name": "stdout",
     "output_type": "stream",
     "text": [
      "number_pageviews_gross: 645875.0\n",
      "number_pageviews_net: 685325.0\n"
     ]
    }
   ],
   "source": [
    "number_pageviews_gross = total_sample_size_gross / ctr_start_free\n",
    "number_pageviews_net = total_sample_size_net / ctr_start_free\n",
    "\n",
    "print(\"number_pageviews_gross: \" + str(number_pageviews_gross))\n",
    "print(\"number_pageviews_net: \" + str(number_pageviews_net))\n"
   ]
  },
  {
   "cell_type": "markdown",
   "metadata": {},
   "source": [
    "7. **Maximum number of page view**: \n",
    "    \n",
    "Max from 6"
   ]
  },
  {
   "cell_type": "code",
   "execution_count": 15,
   "metadata": {},
   "outputs": [
    {
     "name": "stdout",
     "output_type": "stream",
     "text": [
      "max_number_pageviews: 685325.0\n"
     ]
    }
   ],
   "source": [
    "max_number_pageviews =max(number_pageviews_gross,number_pageviews_net)\n",
    "print(\"max_number_pageviews: \" + str(max_number_pageviews))"
   ]
  },
  {
   "cell_type": "markdown",
   "metadata": {},
   "source": [
    "## 5. Duration vs. Exposure"
   ]
  },
  {
   "cell_type": "markdown",
   "metadata": {},
   "source": [
    "**5.1 .Comment Student**\n",
    "\n",
    "After having calculated the max number of pages views, we are checking the required traffic needed with 100% of the traffic and will then reflect on the risk and feasability of the result\n",
    "\n",
    "**5.2 Calculation of required traffic**\n",
    "\n",
    "8. **Traffic required with 100%:** Maximum number of page view (from 7) / Unique cookies to view course overview page per day\n",
    "\n"
   ]
  },
  {
   "cell_type": "code",
   "execution_count": 16,
   "metadata": {},
   "outputs": [
    {
     "name": "stdout",
     "output_type": "stream",
     "text": [
      "Using 100% of the traffic it would take this many days to run the experiment: 18\n"
     ]
    }
   ],
   "source": [
    "import math\n",
    "\n",
    "traffic100 = max_number_pageviews / unique_cookies_view\n",
    "traffic100_rounded = math.ceil(traffic100)\n",
    "print(\"Using 100% of the traffic it would take this many days to run the experiment: \" + str(traffic100_rounded))"
   ]
  },
  {
   "cell_type": "markdown",
   "metadata": {},
   "source": [
    "**5.3 Reasoning on traffic selection**\n",
    "\n",
    "Using 100% of the traffic would be quite risky for different reasons:\n",
    "\n",
    "- Other experiments: Udacity might have other experiments to do\n",
    "- Risk: using 100% of the traffic would mean that we are using the new version for the complete traffic without having tested for bugs, problems on a smaller scope\n",
    "- Technical problems: we might still have bugs or smaller issues on the new page and hence running it on 100% of the traffic seems very risky\n",
    "\n",
    "**Bottom line:**\n",
    "It seems quite risky to use the full traffic. Hence, we will use **50% of the traffic**\n"
   ]
  },
  {
   "cell_type": "markdown",
   "metadata": {},
   "source": [
    "**5.4 Calculation of required traffic for 50%**\n"
   ]
  },
  {
   "cell_type": "code",
   "execution_count": 17,
   "metadata": {},
   "outputs": [
    {
     "name": "stdout",
     "output_type": "stream",
     "text": [
      "Using 100% of the traffic it would take this many days to run the experiment: 35\n"
     ]
    }
   ],
   "source": [
    "traffic50 = max_number_pageviews / (unique_cookies_view *0.5)\n",
    "traffic50_rounded = math.ceil(traffic50)\n",
    "print(\"Using 100% of the traffic it would take this many days to run the experiment: \" + str(traffic50_rounded))"
   ]
  },
  {
   "cell_type": "markdown",
   "metadata": {},
   "source": [
    "## 6. Sanity Checks"
   ]
  },
  {
   "cell_type": "markdown",
   "metadata": {},
   "source": [
    "**6.1 Purpose**:\n",
    "\n",
    "In this section we will perform some sanity checks. The general purpose of this is to ensure that our experiment has been set up correctly and  the data is reliable. \n",
    "\n",
    "In other words: we can check for issues or even biases this way and assure that data between control and experiment group are statistically similar and comparable before proceeding with the analysis.\n",
    "\n",
    "We will carry out these checks ofr our invariant metrics, as defined:\n",
    "- Number of cookies: That is, number of unique cookies to view the course overview page.\n",
    "- Number of clicks: That is, number of unique cookies to click the \"Start free trial\" button.\n",
    "- Click-through-probability: That is, number of unique cookies to click the \"Start free trial\" button divided by number of unique cookies to view the course overview page.\n",
    "\n",
    "**6.2 Calculation of sanity checks**\n",
    "1. Probability p: $ = 0.5$ \n",
    "2. P hat: $\\hat{p}$ = $N_{Control} / N_{Total}$ \n",
    "3. Standard Error: $SE= \\sqrt{p*(1-p)/ N_{Total}}$ \n",
    "4. Margin Error for 95% confidence interval: $ME= 1,96 * SE, for \\alpha = 0,05$ \n",
    "5. Upper and Lower bound of CI: $CI_{upper}$ = $ p + ME$, $CI_{lower}$ = $ p - ME$\n",
    "6. Check, if sanity check passed: compare, if CI includes zero or not \n",
    "\n",
    "**6.3 Sanity check for number of cookies**\n"
   ]
  },
  {
   "cell_type": "markdown",
   "metadata": {},
   "source": [
    "**1. Probability p** \n"
   ]
  },
  {
   "cell_type": "code",
   "execution_count": 18,
   "metadata": {},
   "outputs": [
    {
     "name": "stdout",
     "output_type": "stream",
     "text": [
      "Probability p: 0.5\n"
     ]
    }
   ],
   "source": [
    "p = 0.5\n",
    "print(\"Probability p: \" + str(p))\n"
   ]
  },
  {
   "cell_type": "markdown",
   "metadata": {},
   "source": [
    "**2. P hat:**"
   ]
  },
  {
   "cell_type": "code",
   "execution_count": 19,
   "metadata": {},
   "outputs": [
    {
     "name": "stdout",
     "output_type": "stream",
     "text": [
      "n_control: 345543\n",
      "n_exp: 344660\n",
      "n_total: 690203\n",
      "p_hat_rounded (observed value): 0.5006\n"
     ]
    }
   ],
   "source": [
    "n_control=control[\"Pageviews\"].sum()\n",
    "n_exp=experiment[\"Pageviews\"].sum()\n",
    "n_total = n_control + n_exp\n",
    "p_hat = n_control  / n_total\n",
    "p_hat_rounded=round(p_hat,4)\n",
    "\n",
    "\n",
    "print(\"n_control: \" + str(n_control))\n",
    "print(\"n_exp: \" + str(n_exp))\n",
    "print(\"n_total: \" + str(n_total))\n",
    "print(\"p_hat_rounded (observed value): \" + str(p_hat_rounded))\n"
   ]
  },
  {
   "cell_type": "markdown",
   "metadata": {},
   "source": [
    "**3. Standard Error:**"
   ]
  },
  {
   "cell_type": "code",
   "execution_count": 20,
   "metadata": {},
   "outputs": [
    {
     "name": "stdout",
     "output_type": "stream",
     "text": [
      "SE_rounded: 0.0006\n"
     ]
    }
   ],
   "source": [
    "SE = np.sqrt(p*(1-p)/n_total)\n",
    "SE_rounded=round(SE,4)\n",
    "print(\"SE_rounded: \" + str(SE_rounded))"
   ]
  },
  {
   "cell_type": "markdown",
   "metadata": {},
   "source": [
    "**4. Margin Error for 95% confidence interval**"
   ]
  },
  {
   "cell_type": "code",
   "execution_count": 21,
   "metadata": {},
   "outputs": [
    {
     "name": "stdout",
     "output_type": "stream",
     "text": [
      "ME: 0.0012\n"
     ]
    }
   ],
   "source": [
    "ME = (1.96 * SE)\n",
    "ME_rounded=round(ME,4)\n",
    "print(\"ME: \" + str(ME_rounded))"
   ]
  },
  {
   "cell_type": "markdown",
   "metadata": {},
   "source": [
    "**5. Upper and Lower bound of CI**"
   ]
  },
  {
   "cell_type": "code",
   "execution_count": 22,
   "metadata": {},
   "outputs": [
    {
     "name": "stdout",
     "output_type": "stream",
     "text": [
      "CI_lower_cookies_rounded: 0.4988\n",
      "CI_upper_cookies_rounded: 0.5012\n"
     ]
    }
   ],
   "source": [
    "CI_upper_cookies= p + ME\n",
    "CI_upper_cookies_rounded=round(CI_upper_cookies,4)\n",
    "\n",
    "CI_lower_cookies= p - ME\n",
    "CI_lower_cookies_rounded=round(CI_lower_cookies,4)\n",
    "\n",
    "print(\"CI_lower_cookies_rounded: \" + str(CI_lower_cookies_rounded))\n",
    "print(\"CI_upper_cookies_rounded: \" + str(CI_upper_cookies_rounded))\n"
   ]
  },
  {
   "cell_type": "markdown",
   "metadata": {},
   "source": [
    "**6. Check, if sanity check passed**"
   ]
  },
  {
   "cell_type": "markdown",
   "metadata": {},
   "source": [
    " **--> PASSED, CI does not include zero ✔️**\n",
    " "
   ]
  },
  {
   "cell_type": "markdown",
   "metadata": {},
   "source": [
    "**6.4 Sanity check for number of clicks**"
   ]
  },
  {
   "cell_type": "markdown",
   "metadata": {},
   "source": [
    "**1. Probability p** \n"
   ]
  },
  {
   "cell_type": "code",
   "execution_count": 23,
   "metadata": {},
   "outputs": [
    {
     "name": "stdout",
     "output_type": "stream",
     "text": [
      "Probability p for Clicks: 0.5\n"
     ]
    }
   ],
   "source": [
    "p_clicks = 0.5\n",
    "print(\"Probability p for Clicks: \" + str(p_clicks))\n"
   ]
  },
  {
   "cell_type": "markdown",
   "metadata": {},
   "source": [
    "**2. P hat:**"
   ]
  },
  {
   "cell_type": "code",
   "execution_count": 24,
   "metadata": {},
   "outputs": [
    {
     "name": "stdout",
     "output_type": "stream",
     "text": [
      "n_control_clicks: 28378\n",
      "n_exp_clicks: 28325\n",
      "n_total_clicks: 56703\n",
      "p_hat_clicks_rounded (observed value): 0.5005\n"
     ]
    }
   ],
   "source": [
    "n_control_clicks=control[\"Clicks\"].sum()\n",
    "n_exp_clicks=experiment[\"Clicks\"].sum()\n",
    "n_total_clicks = n_control_clicks + n_exp_clicks\n",
    "p_hat_clicks = n_control_clicks  / n_total_clicks\n",
    "p_hat_clicks_rounded=round(p_hat_clicks,4)\n",
    "\n",
    "\n",
    "print(\"n_control_clicks: \" + str(n_control_clicks))\n",
    "print(\"n_exp_clicks: \" + str(n_exp_clicks))\n",
    "print(\"n_total_clicks: \" + str(n_total_clicks))\n",
    "print(\"p_hat_clicks_rounded (observed value): \" + str(p_hat_clicks_rounded))\n"
   ]
  },
  {
   "cell_type": "markdown",
   "metadata": {},
   "source": [
    "**3. Standard Error:**"
   ]
  },
  {
   "cell_type": "code",
   "execution_count": 25,
   "metadata": {},
   "outputs": [
    {
     "name": "stdout",
     "output_type": "stream",
     "text": [
      "SE_clicks_rounded: 0.0021\n"
     ]
    }
   ],
   "source": [
    "SE_clicks = np.sqrt(p*(1-p)/n_total_clicks)\n",
    "SE_clicks_rounded=round(SE_clicks,4)\n",
    "print(\"SE_clicks_rounded: \" + str(SE_clicks_rounded))"
   ]
  },
  {
   "cell_type": "markdown",
   "metadata": {},
   "source": [
    "**4. Margin Error for 95% confidence interval**"
   ]
  },
  {
   "cell_type": "code",
   "execution_count": 26,
   "metadata": {},
   "outputs": [
    {
     "name": "stdout",
     "output_type": "stream",
     "text": [
      "ME_clicks_rounded: 0.0012\n"
     ]
    }
   ],
   "source": [
    "ME_clicks = (1.96 * SE_clicks_rounded)\n",
    "ME_clicks_rounded=round(ME,4)\n",
    "print(\"ME_clicks_rounded: \" + str(ME_clicks_rounded))"
   ]
  },
  {
   "cell_type": "markdown",
   "metadata": {},
   "source": [
    "**5. Upper and Lower bound of CI**"
   ]
  },
  {
   "cell_type": "code",
   "execution_count": 27,
   "metadata": {},
   "outputs": [
    {
     "name": "stdout",
     "output_type": "stream",
     "text": [
      "CI_upper_clicks_rounded: 0.5041\n",
      "CI_lower_clicks_rounded: 0.4959\n"
     ]
    }
   ],
   "source": [
    "CI_upper_clicks= p_clicks + ME_clicks\n",
    "CI_upper_clicks_rounded=round(CI_upper_clicks,4)\n",
    "\n",
    "CI_lower_clicks= p_clicks - ME_clicks\n",
    "CI_lower_clicks_rounded=round(CI_lower_clicks,4)\n",
    "\n",
    "print(\"CI_upper_clicks_rounded: \" + str(CI_upper_clicks_rounded))\n",
    "print(\"CI_lower_clicks_rounded: \" + str(CI_lower_clicks_rounded))\n"
   ]
  },
  {
   "cell_type": "markdown",
   "metadata": {},
   "source": [
    "**6. Check, if sanity check passed**"
   ]
  },
  {
   "cell_type": "markdown",
   "metadata": {},
   "source": [
    " **--> PASSED, CI does not include zero ✔️**\n",
    " "
   ]
  },
  {
   "cell_type": "markdown",
   "metadata": {},
   "source": []
  },
  {
   "cell_type": "markdown",
   "metadata": {},
   "source": [
    "**6.5 Sanity check for number of click-through-probability (CTR)**"
   ]
  },
  {
   "cell_type": "markdown",
   "metadata": {},
   "source": [
    "**1. P hat:**"
   ]
  },
  {
   "cell_type": "code",
   "execution_count": 28,
   "metadata": {},
   "outputs": [
    {
     "name": "stdout",
     "output_type": "stream",
     "text": [
      "Probability p hat for CTR, control: 0.0821\n",
      "Probability p hat for CTR, experiment: 0.0822\n"
     ]
    }
   ],
   "source": [
    "p_ctr_exp_hat = experiment[\"Clicks\"].sum() / experiment[\"Pageviews\"].sum() \n",
    "p_ctr_exp_hat_rounded=round(p_ctr_exp_hat,4)\n",
    "\n",
    "p_ctr_cont_hat = control[\"Clicks\"].sum() / control[\"Pageviews\"].sum() \n",
    "p_ctr_cont_hat_rounded=round(p_ctr_cont_hat,4)\n",
    "\n",
    "print(\"Probability p hat for CTR, control: \" + str(p_ctr_cont_hat_rounded))\n",
    "print(\"Probability p hat for CTR, experiment: \" + str(p_ctr_exp_hat_rounded))\n",
    "\n",
    "\n"
   ]
  },
  {
   "cell_type": "markdown",
   "metadata": {},
   "source": [
    "**2. Standard Error:**"
   ]
  },
  {
   "cell_type": "code",
   "execution_count": 29,
   "metadata": {},
   "outputs": [
    {
     "name": "stdout",
     "output_type": "stream",
     "text": [
      "SE_ctr_rounded: 0.0005\n"
     ]
    }
   ],
   "source": [
    "SE_ctr = np.sqrt(p_ctr_cont_hat*(1-p_ctr_cont_hat)/n_control)\n",
    "SE_ctr_rounded=round(SE_ctr,4)\n",
    "print(\"SE_ctr_rounded: \" + str(SE_ctr_rounded))"
   ]
  },
  {
   "cell_type": "markdown",
   "metadata": {},
   "source": [
    "**3. Margin Error for 95% confidence interval**"
   ]
  },
  {
   "cell_type": "code",
   "execution_count": 30,
   "metadata": {},
   "outputs": [
    {
     "name": "stdout",
     "output_type": "stream",
     "text": [
      "ME_ctr_rounded: 0.0009\n"
     ]
    }
   ],
   "source": [
    "ME_ctr = (1.96 * SE_ctr)\n",
    "ME_ctr_rounded=round(ME_ctr,4)\n",
    "print(\"ME_ctr_rounded: \" + str(ME_ctr_rounded))\n"
   ]
  },
  {
   "cell_type": "markdown",
   "metadata": {},
   "source": [
    "**4. Upper and Lower bound of CI**"
   ]
  },
  {
   "cell_type": "code",
   "execution_count": 31,
   "metadata": {},
   "outputs": [
    {
     "name": "stdout",
     "output_type": "stream",
     "text": [
      "CI_upper_ctr_rounded: 0.0831\n",
      "CI_lower_ctr_rounded: 0.0813\n"
     ]
    }
   ],
   "source": [
    "CI_upper_ctr= p_ctr_exp_hat + ME_ctr\n",
    "CI_upper_ctr_rounded=round(CI_upper_ctr,4)\n",
    "\n",
    "CI_lower_ctr= p_ctr_exp_hat - ME_ctr\n",
    "CI_lower_ctr_rounded=round(CI_lower_ctr,4)\n",
    "\n",
    "print(\"CI_upper_ctr_rounded: \" + str(CI_upper_ctr_rounded))\n",
    "print(\"CI_lower_ctr_rounded: \" + str(CI_lower_ctr_rounded))"
   ]
  },
  {
   "cell_type": "markdown",
   "metadata": {},
   "source": [
    "**5. Check, if sanity check passed**"
   ]
  },
  {
   "cell_type": "markdown",
   "metadata": {},
   "source": [
    " **--> PASSED, CI does not include zero ✔️**\n",
    " "
   ]
  },
  {
   "cell_type": "markdown",
   "metadata": {},
   "source": [
    "**6.6 Sanity check Sumary ✔️**\n",
    "\n",
    "All sanity checks for our three invariant metrics:\n",
    "- Number of cookies\n",
    "- Number of clicks: That is, number of unique cookies to click the \"Start free trial\" button.\n",
    "- Click-through-probability:\n",
    "\n",
    "have been checked and passed the sanity check as all observed values were between the upper and lower bounds of the CI. Hence, we can proceed with the Effect Size Tests."
   ]
  },
  {
   "cell_type": "markdown",
   "metadata": {},
   "source": [
    "## 7. Effect Size Tests"
   ]
  },
  {
   "cell_type": "markdown",
   "metadata": {},
   "source": [
    "**7.1 Purpose**\n",
    "\n",
    "The Effect Size test tells us how meaningful the relationship between variables or the difference between groups is or in other words it tells us, if a difference between a control and experiment group is also practically significant.\n",
    "\n",
    "Sources:\n",
    "https://www.scribbr.com/statistics/effect-size/#:~:text=Effect%20size%20tells%20you%20how,size%20indicates%20limited%20practical%20applications."
   ]
  },
  {
   "cell_type": "markdown",
   "metadata": {},
   "source": [
    "**7.2 Calculation Effect Size Test Algorithm**\n",
    "1. P hat: \n",
    "    - $\\hat{p GrossConv}$ = $(Enrollments_{Experiment} + Enrollments_{Control}) / (Clicks_{Experiment} + Clicks_{Control}) $ \n",
    "    - $\\hat{p NetConv}$ = $(Payments_{Experiment} + Payments_{Control}) / (Clicks_{Experiment} + Clicks_{Control}) $ \n",
    "2. GrossConversion and NetConversion Difference:\n",
    "    -  $ GrossConversion_{Difference}  = GrossConversion_{Experiment} - GrossConversion_{Control} = Enrollments_Experiment/Clicks_Experiment - Enrollments_control/Clicks_control$ \n",
    "    -  $ NetConversion_{Difference}  = NetConversion_{Experiment} - NetConversion_{Control}= Payments_Experiment/Clicks_Experiment - Payments_control/Clicks_control$ \n",
    "\n",
    "3. Standard Error: $SE= \\sqrt{phat*(1-phat) + (1/N_{CONT} + 1/N_{EXP})}$ \n",
    "4. Margin Error for 95% confidence interval: $ME= Z-Score * SE = 1,96 * SE, for \\alpha = 0,05$ \n",
    "5. Upper and Lower bound of CI: \n",
    "    - Gross Conversion: $CI_{upper}$ = $ GrossConversion_{Difference}  + ME$ and  $CI_{lower}$ = $ GrossConversion_{Difference}  - ME$\n",
    "    - Net Conversion: $CI_{upper}$ = $ NetConversion_{Difference}  + ME$ and $CI_{lower}$ = $ NetConversion_{Difference}  - ME$\n",
    "6. Check, \n",
    "    - if statistically relevant\n",
    "        - Gross Conv: if CI includes zero or not \n",
    "        - Net Conv: if CI includes zero or not \n",
    "    - Practically relevant: $ D{min}$ not included in lower and upper CI bounds\n",
    "    \n",
    "\n",
    "Note: We are only counting the clicks for the not null values of enrollments to be consistent."
   ]
  },
  {
   "cell_type": "markdown",
   "metadata": {},
   "source": [
    "**7.3 Calculation Effect Size Test: GrossConversion and NetConversion**\n"
   ]
  },
  {
   "cell_type": "markdown",
   "metadata": {},
   "source": [
    "**1. P hat**\n",
    "\n",
    "Note: We are only counting the clicks for the not null values of enrollments to be consistent."
   ]
  },
  {
   "cell_type": "code",
   "execution_count": 32,
   "metadata": {},
   "outputs": [],
   "source": [
    "N_cont = control[\"Clicks\"].loc[control[\"Enrollments\"].notnull()].sum()\n",
    "N_exp = experiment[\"Clicks\"].loc[experiment[\"Enrollments\"].notnull()].sum()"
   ]
  },
  {
   "cell_type": "code",
   "execution_count": 33,
   "metadata": {},
   "outputs": [
    {
     "name": "stdout",
     "output_type": "stream",
     "text": [
      "p_hat_gross_rounded: 0.2086\n",
      "p_hat_net_rounded: 0.1151\n"
     ]
    }
   ],
   "source": [
    "p_hat_gross = (experiment[\"Enrollments\"].sum() + control[\"Enrollments\"].sum())/(N_exp + N_cont)\n",
    "p_hat_gross_rounded=round(p_hat_gross,4)\n",
    "print(\"p_hat_gross_rounded: \" + str(p_hat_gross_rounded))\n",
    "\n",
    "p_hat_net = (experiment[\"Payments\"].sum() + control[\"Payments\"].sum())/(N_exp + N_cont)\n",
    "p_hat_net_rounded=round(p_hat_net,4)\n",
    "print(\"p_hat_net_rounded: \" + str(p_hat_net_rounded))"
   ]
  },
  {
   "cell_type": "markdown",
   "metadata": {},
   "source": [
    "**2. GrossConversion and NetConversion Difference**\n",
    "\n",
    "Note: We are only counting the clicks for the not null values of enrollments to be consistent."
   ]
  },
  {
   "cell_type": "code",
   "execution_count": 34,
   "metadata": {},
   "outputs": [
    {
     "name": "stdout",
     "output_type": "stream",
     "text": [
      "GrossConvDiff_rounded: -0.0206\n",
      "NetConvDiff_rounded: -0.0049\n"
     ]
    }
   ],
   "source": [
    "GrossConvDiff = experiment[\"Enrollments\"].loc[experiment[\"Enrollments\"].notnull()].sum()/N_exp - control[\"Enrollments\"].loc[control[\"Enrollments\"].notnull()].sum()/N_cont\n",
    "GrossConvDiff_rounded=round(GrossConvDiff,4)\n",
    "print(\"GrossConvDiff_rounded: \" + str(GrossConvDiff_rounded))\n",
    "\n",
    "NetConvDiff = experiment[\"Payments\"].loc[experiment[\"Payments\"].notnull()].sum()/N_exp - control[\"Payments\"].loc[control[\"Payments\"].notnull()].sum()/N_cont\n",
    "NetConvDiff_rounded=round(NetConvDiff,4)\n",
    "print(\"NetConvDiff_rounded: \" + str(NetConvDiff_rounded))\n"
   ]
  },
  {
   "cell_type": "markdown",
   "metadata": {},
   "source": [
    "**3. Standard Error**"
   ]
  },
  {
   "cell_type": "code",
   "execution_count": 35,
   "metadata": {},
   "outputs": [
    {
     "name": "stdout",
     "output_type": "stream",
     "text": [
      "SE_gross_rounded: 0.0044\n",
      "SE_net_rounded: 0.0034\n"
     ]
    }
   ],
   "source": [
    "SE_gross = np.sqrt(p_hat_gross*(1-p_hat_gross)*(1/N_cont + 1/N_exp))\n",
    "SE_gross_rounded=round(SE_gross,4)\n",
    "print(\"SE_gross_rounded: \" + str(SE_gross_rounded))\n",
    "\n",
    "SE_net = np.sqrt(p_hat_net*(1-p_hat_net)*(1/N_cont + 1/N_exp))\n",
    "SE_net_rounded=round(SE_net,4)\n",
    "print(\"SE_net_rounded: \" + str(SE_net_rounded))"
   ]
  },
  {
   "cell_type": "markdown",
   "metadata": {},
   "source": [
    "**4. Margin Error**"
   ]
  },
  {
   "cell_type": "code",
   "execution_count": 36,
   "metadata": {},
   "outputs": [
    {
     "name": "stdout",
     "output_type": "stream",
     "text": [
      "ME_gross_rounded: 0.0086\n",
      "ME_net_rounded: 0.0067\n"
     ]
    }
   ],
   "source": [
    "ME_gross = (1.96 * SE_gross)\n",
    "ME_gross_rounded=round(ME_gross,4)\n",
    "print(\"ME_gross_rounded: \" + str(ME_gross_rounded))\n",
    "\n",
    "ME_net = (1.96 * SE_net)\n",
    "ME_net_rounded=round(ME_net,4)\n",
    "print(\"ME_net_rounded: \" + str(ME_net_rounded))\n"
   ]
  },
  {
   "cell_type": "markdown",
   "metadata": {},
   "source": [
    "**5. Upper and Lower bound of CI**"
   ]
  },
  {
   "cell_type": "code",
   "execution_count": 37,
   "metadata": {},
   "outputs": [
    {
     "name": "stdout",
     "output_type": "stream",
     "text": [
      "CI_lower_gross_rounded: -0.0291\n",
      "CI_upper_gross_rounded: -0.012\n",
      "CI_lower_net_rounded: -0.0116\n",
      "CI_upper_net_rounded: 0.0019\n"
     ]
    }
   ],
   "source": [
    "CI_upper_gross= GrossConvDiff + ME_gross\n",
    "CI_upper_gross_rounded=round(CI_upper_gross,4)\n",
    "\n",
    "CI_lower_gross= GrossConvDiff - ME_gross\n",
    "CI_lower_gross_rounded=round(CI_lower_gross,4)\n",
    "\n",
    "print(\"CI_lower_gross_rounded: \" + str(CI_lower_gross_rounded))\n",
    "print(\"CI_upper_gross_rounded: \" + str(CI_upper_gross_rounded))\n",
    "\n",
    "CI_upper_net= NetConvDiff + ME_net\n",
    "CI_upper_net_rounded=round(CI_upper_net,4)\n",
    "\n",
    "CI_lower_net= NetConvDiff - ME_net\n",
    "CI_lower_net_rounded=round(CI_lower_net,4)\n",
    "\n",
    "print(\"CI_lower_net_rounded: \" + str(CI_lower_net_rounded))\n",
    "print(\"CI_upper_net_rounded: \" + str(CI_upper_net_rounded))"
   ]
  },
  {
   "cell_type": "markdown",
   "metadata": {},
   "source": [
    "**6. Statistical and practical relevance**\n",
    "\n",
    "1. Gross Conversion\n",
    "    - Statistical:   **--> PASSED, CI does not include zero ✔️**\n",
    "    - Practical: $ D{min} = 0.01$ not included in lower and upper CI bounds\n",
    "    \n",
    " **--> OK, practically and statically significant ✔️**\n",
    "\n",
    "2. Net Conversion\n",
    "    - Statistical:  **NOT PASSED as zero is included in CI ❌**\n",
    "    - Practical: $ D{min} = 0.0075$ included in lower and upper CI bounds\n",
    "    \n",
    " **--> KO, NOT practically and statically significant ❌**\n"
   ]
  },
  {
   "cell_type": "markdown",
   "metadata": {},
   "source": [
    "**7. Effect Size Test Summary**\n",
    "\n",
    "We have seen that our Gross Conversion Metric **is very well practically  and statistically relevant**. However, the Net Conversion Metric is **NOT pratically and statistically**.\n",
    "\n",
    "This is interesting and surprising as Gross and Net Conversion should correlate with each other."
   ]
  },
  {
   "cell_type": "markdown",
   "metadata": {},
   "source": [
    "## 8. Sign test"
   ]
  },
  {
   "cell_type": "markdown",
   "metadata": {},
   "source": [
    "**8.1 Purpose**\n",
    "\n",
    "\"The Sign test is a non-parametric test that is used to test whether or not two groups are equally sized.\" In other words this means we want to check, if in the case of two groups there is a difference that is significant.\n",
    "\n",
    "Sources:\n",
    "https://www.statisticssolutions.com/free-resources/directory-of-statistical-analyses/sign-test/"
   ]
  },
  {
   "cell_type": "markdown",
   "metadata": {},
   "source": [
    "**8.2 Calculation of Sign Test algorithm**\n",
    "\n",
    "1. Create a clean version of control and experiment data frame without null values\n",
    "2. We need to join our two dataframe control and experiment group so we get the following rates. Some renaming will have to be done\n",
    "    - Gross conversion rate (Enrollments/Clicks)\n",
    "    - Net conversion rate ( payments/clicks)\n",
    "3. On the resulting dataframe we can calculate the daily Difference for Gross/Net Converion rate between control and experiment group: \n",
    "    - GrossConversionDiff = Gross Conversion Rate Control - Gross Conversion Rate Experiment\n",
    "    - NetConversionDiff = Net Conversion Rate Control - Net Conversion Rate Experiment \n",
    "4. Get the number of trials and successes to run a sign and binomial test:\n",
    "    - Trials = number of samples in new data frame\n",
    "    - Successes:\n",
    "        - Number of daily GrossConversionDiff < 0\n",
    "        - Number of daily NetConversionDiff < 0\n",
    "        \n",
    "5. Use a binomial test to calculate the p-value. Either using https://www.graphpad.com/quickcalcs/binomial1.cfm or using scipy.stats import binom_test"
   ]
  },
  {
   "cell_type": "markdown",
   "metadata": {},
   "source": [
    "**1. Clean**"
   ]
  },
  {
   "cell_type": "code",
   "execution_count": 38,
   "metadata": {},
   "outputs": [
    {
     "data": {
      "text/html": [
       "<div>\n",
       "<style scoped>\n",
       "    .dataframe tbody tr th:only-of-type {\n",
       "        vertical-align: middle;\n",
       "    }\n",
       "\n",
       "    .dataframe tbody tr th {\n",
       "        vertical-align: top;\n",
       "    }\n",
       "\n",
       "    .dataframe thead th {\n",
       "        text-align: right;\n",
       "    }\n",
       "</style>\n",
       "<table border=\"1\" class=\"dataframe\">\n",
       "  <thead>\n",
       "    <tr style=\"text-align: right;\">\n",
       "      <th></th>\n",
       "      <th>Date</th>\n",
       "      <th>Pageviews</th>\n",
       "      <th>Clicks</th>\n",
       "      <th>Enrollments</th>\n",
       "      <th>Payments</th>\n",
       "      <th>Grossperday</th>\n",
       "      <th>Netperday</th>\n",
       "    </tr>\n",
       "  </thead>\n",
       "  <tbody>\n",
       "    <tr>\n",
       "      <td>0</td>\n",
       "      <td>Sat, Oct 11</td>\n",
       "      <td>7716</td>\n",
       "      <td>686</td>\n",
       "      <td>105.0</td>\n",
       "      <td>34.0</td>\n",
       "      <td>0.153061</td>\n",
       "      <td>0.049563</td>\n",
       "    </tr>\n",
       "    <tr>\n",
       "      <td>1</td>\n",
       "      <td>Sun, Oct 12</td>\n",
       "      <td>9288</td>\n",
       "      <td>785</td>\n",
       "      <td>116.0</td>\n",
       "      <td>91.0</td>\n",
       "      <td>0.147771</td>\n",
       "      <td>0.115924</td>\n",
       "    </tr>\n",
       "    <tr>\n",
       "      <td>2</td>\n",
       "      <td>Mon, Oct 13</td>\n",
       "      <td>10480</td>\n",
       "      <td>884</td>\n",
       "      <td>145.0</td>\n",
       "      <td>79.0</td>\n",
       "      <td>0.164027</td>\n",
       "      <td>0.089367</td>\n",
       "    </tr>\n",
       "    <tr>\n",
       "      <td>3</td>\n",
       "      <td>Tue, Oct 14</td>\n",
       "      <td>9867</td>\n",
       "      <td>827</td>\n",
       "      <td>138.0</td>\n",
       "      <td>92.0</td>\n",
       "      <td>0.166868</td>\n",
       "      <td>0.111245</td>\n",
       "    </tr>\n",
       "    <tr>\n",
       "      <td>4</td>\n",
       "      <td>Wed, Oct 15</td>\n",
       "      <td>9793</td>\n",
       "      <td>832</td>\n",
       "      <td>140.0</td>\n",
       "      <td>94.0</td>\n",
       "      <td>0.168269</td>\n",
       "      <td>0.112981</td>\n",
       "    </tr>\n",
       "  </tbody>\n",
       "</table>\n",
       "</div>"
      ],
      "text/plain": [
       "          Date  Pageviews  Clicks  Enrollments  Payments  Grossperday  \\\n",
       "0  Sat, Oct 11       7716     686        105.0      34.0     0.153061   \n",
       "1  Sun, Oct 12       9288     785        116.0      91.0     0.147771   \n",
       "2  Mon, Oct 13      10480     884        145.0      79.0     0.164027   \n",
       "3  Tue, Oct 14       9867     827        138.0      92.0     0.166868   \n",
       "4  Wed, Oct 15       9793     832        140.0      94.0     0.168269   \n",
       "\n",
       "   Netperday  \n",
       "0   0.049563  \n",
       "1   0.115924  \n",
       "2   0.089367  \n",
       "3   0.111245  \n",
       "4   0.112981  "
      ]
     },
     "execution_count": 38,
     "metadata": {},
     "output_type": "execute_result"
    }
   ],
   "source": [
    "experiment_clean = experiment[experiment[\"Enrollments\"].notnull()]\n",
    "control_clean = control[control[\"Enrollments\"].notnull()]\n",
    "experiment_clean.head(5)"
   ]
  },
  {
   "cell_type": "markdown",
   "metadata": {},
   "source": [
    "**2a. Join dataframes**"
   ]
  },
  {
   "cell_type": "code",
   "execution_count": 39,
   "metadata": {},
   "outputs": [
    {
     "data": {
      "text/html": [
       "<div>\n",
       "<style scoped>\n",
       "    .dataframe tbody tr th:only-of-type {\n",
       "        vertical-align: middle;\n",
       "    }\n",
       "\n",
       "    .dataframe tbody tr th {\n",
       "        vertical-align: top;\n",
       "    }\n",
       "\n",
       "    .dataframe thead th {\n",
       "        text-align: right;\n",
       "    }\n",
       "</style>\n",
       "<table border=\"1\" class=\"dataframe\">\n",
       "  <thead>\n",
       "    <tr style=\"text-align: right;\">\n",
       "      <th></th>\n",
       "      <th>Date</th>\n",
       "      <th>Pageviews_x</th>\n",
       "      <th>Clicks_x</th>\n",
       "      <th>Enrollments_x</th>\n",
       "      <th>Payments_x</th>\n",
       "      <th>Grossperday_x</th>\n",
       "      <th>Netperday_x</th>\n",
       "      <th>Pageviews_y</th>\n",
       "      <th>Clicks_y</th>\n",
       "      <th>Enrollments_y</th>\n",
       "      <th>Payments_y</th>\n",
       "      <th>Grossperday_y</th>\n",
       "      <th>Netperday_y</th>\n",
       "    </tr>\n",
       "  </thead>\n",
       "  <tbody>\n",
       "    <tr>\n",
       "      <td>0</td>\n",
       "      <td>Sat, Oct 11</td>\n",
       "      <td>7723</td>\n",
       "      <td>687</td>\n",
       "      <td>134.0</td>\n",
       "      <td>70.0</td>\n",
       "      <td>0.195051</td>\n",
       "      <td>0.101892</td>\n",
       "      <td>7716</td>\n",
       "      <td>686</td>\n",
       "      <td>105.0</td>\n",
       "      <td>34.0</td>\n",
       "      <td>0.153061</td>\n",
       "      <td>0.049563</td>\n",
       "    </tr>\n",
       "    <tr>\n",
       "      <td>1</td>\n",
       "      <td>Sun, Oct 12</td>\n",
       "      <td>9102</td>\n",
       "      <td>779</td>\n",
       "      <td>147.0</td>\n",
       "      <td>70.0</td>\n",
       "      <td>0.188703</td>\n",
       "      <td>0.089859</td>\n",
       "      <td>9288</td>\n",
       "      <td>785</td>\n",
       "      <td>116.0</td>\n",
       "      <td>91.0</td>\n",
       "      <td>0.147771</td>\n",
       "      <td>0.115924</td>\n",
       "    </tr>\n",
       "    <tr>\n",
       "      <td>2</td>\n",
       "      <td>Mon, Oct 13</td>\n",
       "      <td>10511</td>\n",
       "      <td>909</td>\n",
       "      <td>167.0</td>\n",
       "      <td>95.0</td>\n",
       "      <td>0.183718</td>\n",
       "      <td>0.104510</td>\n",
       "      <td>10480</td>\n",
       "      <td>884</td>\n",
       "      <td>145.0</td>\n",
       "      <td>79.0</td>\n",
       "      <td>0.164027</td>\n",
       "      <td>0.089367</td>\n",
       "    </tr>\n",
       "    <tr>\n",
       "      <td>3</td>\n",
       "      <td>Tue, Oct 14</td>\n",
       "      <td>9871</td>\n",
       "      <td>836</td>\n",
       "      <td>156.0</td>\n",
       "      <td>105.0</td>\n",
       "      <td>0.186603</td>\n",
       "      <td>0.125598</td>\n",
       "      <td>9867</td>\n",
       "      <td>827</td>\n",
       "      <td>138.0</td>\n",
       "      <td>92.0</td>\n",
       "      <td>0.166868</td>\n",
       "      <td>0.111245</td>\n",
       "    </tr>\n",
       "    <tr>\n",
       "      <td>4</td>\n",
       "      <td>Wed, Oct 15</td>\n",
       "      <td>10014</td>\n",
       "      <td>837</td>\n",
       "      <td>163.0</td>\n",
       "      <td>64.0</td>\n",
       "      <td>0.194743</td>\n",
       "      <td>0.076464</td>\n",
       "      <td>9793</td>\n",
       "      <td>832</td>\n",
       "      <td>140.0</td>\n",
       "      <td>94.0</td>\n",
       "      <td>0.168269</td>\n",
       "      <td>0.112981</td>\n",
       "    </tr>\n",
       "  </tbody>\n",
       "</table>\n",
       "</div>"
      ],
      "text/plain": [
       "          Date  Pageviews_x  Clicks_x  Enrollments_x  Payments_x  \\\n",
       "0  Sat, Oct 11         7723       687          134.0        70.0   \n",
       "1  Sun, Oct 12         9102       779          147.0        70.0   \n",
       "2  Mon, Oct 13        10511       909          167.0        95.0   \n",
       "3  Tue, Oct 14         9871       836          156.0       105.0   \n",
       "4  Wed, Oct 15        10014       837          163.0        64.0   \n",
       "\n",
       "   Grossperday_x  Netperday_x  Pageviews_y  Clicks_y  Enrollments_y  \\\n",
       "0       0.195051     0.101892         7716       686          105.0   \n",
       "1       0.188703     0.089859         9288       785          116.0   \n",
       "2       0.183718     0.104510        10480       884          145.0   \n",
       "3       0.186603     0.125598         9867       827          138.0   \n",
       "4       0.194743     0.076464         9793       832          140.0   \n",
       "\n",
       "   Payments_y  Grossperday_y  Netperday_y  \n",
       "0        34.0       0.153061     0.049563  \n",
       "1        91.0       0.147771     0.115924  \n",
       "2        79.0       0.164027     0.089367  \n",
       "3        92.0       0.166868     0.111245  \n",
       "4        94.0       0.168269     0.112981  "
      ]
     },
     "execution_count": 39,
     "metadata": {},
     "output_type": "execute_result"
    }
   ],
   "source": [
    "df_merged = pd.merge(control_clean, experiment_clean,  how='inner', on=['Date'])\n",
    "df_merged.head(5)"
   ]
  },
  {
   "cell_type": "markdown",
   "metadata": {},
   "source": [
    "**2b. Rename**"
   ]
  },
  {
   "cell_type": "code",
   "execution_count": 40,
   "metadata": {},
   "outputs": [
    {
     "data": {
      "text/html": [
       "<div>\n",
       "<style scoped>\n",
       "    .dataframe tbody tr th:only-of-type {\n",
       "        vertical-align: middle;\n",
       "    }\n",
       "\n",
       "    .dataframe tbody tr th {\n",
       "        vertical-align: top;\n",
       "    }\n",
       "\n",
       "    .dataframe thead th {\n",
       "        text-align: right;\n",
       "    }\n",
       "</style>\n",
       "<table border=\"1\" class=\"dataframe\">\n",
       "  <thead>\n",
       "    <tr style=\"text-align: right;\">\n",
       "      <th></th>\n",
       "      <th>Date</th>\n",
       "      <th>Pageviews_cont</th>\n",
       "      <th>Clicks_cont</th>\n",
       "      <th>Enrollments_cont</th>\n",
       "      <th>Payments_cont</th>\n",
       "      <th>Grossperday_cont</th>\n",
       "      <th>Netperday_cont</th>\n",
       "      <th>Pageviews_exp</th>\n",
       "      <th>Clicks_exp</th>\n",
       "      <th>Enrollments_exp</th>\n",
       "      <th>Payments_exp</th>\n",
       "      <th>Grossperday_exp</th>\n",
       "      <th>Netperday_exp</th>\n",
       "    </tr>\n",
       "  </thead>\n",
       "  <tbody>\n",
       "    <tr>\n",
       "      <td>0</td>\n",
       "      <td>Sat, Oct 11</td>\n",
       "      <td>7723</td>\n",
       "      <td>687</td>\n",
       "      <td>134.0</td>\n",
       "      <td>70.0</td>\n",
       "      <td>0.195051</td>\n",
       "      <td>0.101892</td>\n",
       "      <td>7716</td>\n",
       "      <td>686</td>\n",
       "      <td>105.0</td>\n",
       "      <td>34.0</td>\n",
       "      <td>0.153061</td>\n",
       "      <td>0.049563</td>\n",
       "    </tr>\n",
       "    <tr>\n",
       "      <td>1</td>\n",
       "      <td>Sun, Oct 12</td>\n",
       "      <td>9102</td>\n",
       "      <td>779</td>\n",
       "      <td>147.0</td>\n",
       "      <td>70.0</td>\n",
       "      <td>0.188703</td>\n",
       "      <td>0.089859</td>\n",
       "      <td>9288</td>\n",
       "      <td>785</td>\n",
       "      <td>116.0</td>\n",
       "      <td>91.0</td>\n",
       "      <td>0.147771</td>\n",
       "      <td>0.115924</td>\n",
       "    </tr>\n",
       "    <tr>\n",
       "      <td>2</td>\n",
       "      <td>Mon, Oct 13</td>\n",
       "      <td>10511</td>\n",
       "      <td>909</td>\n",
       "      <td>167.0</td>\n",
       "      <td>95.0</td>\n",
       "      <td>0.183718</td>\n",
       "      <td>0.104510</td>\n",
       "      <td>10480</td>\n",
       "      <td>884</td>\n",
       "      <td>145.0</td>\n",
       "      <td>79.0</td>\n",
       "      <td>0.164027</td>\n",
       "      <td>0.089367</td>\n",
       "    </tr>\n",
       "    <tr>\n",
       "      <td>3</td>\n",
       "      <td>Tue, Oct 14</td>\n",
       "      <td>9871</td>\n",
       "      <td>836</td>\n",
       "      <td>156.0</td>\n",
       "      <td>105.0</td>\n",
       "      <td>0.186603</td>\n",
       "      <td>0.125598</td>\n",
       "      <td>9867</td>\n",
       "      <td>827</td>\n",
       "      <td>138.0</td>\n",
       "      <td>92.0</td>\n",
       "      <td>0.166868</td>\n",
       "      <td>0.111245</td>\n",
       "    </tr>\n",
       "    <tr>\n",
       "      <td>4</td>\n",
       "      <td>Wed, Oct 15</td>\n",
       "      <td>10014</td>\n",
       "      <td>837</td>\n",
       "      <td>163.0</td>\n",
       "      <td>64.0</td>\n",
       "      <td>0.194743</td>\n",
       "      <td>0.076464</td>\n",
       "      <td>9793</td>\n",
       "      <td>832</td>\n",
       "      <td>140.0</td>\n",
       "      <td>94.0</td>\n",
       "      <td>0.168269</td>\n",
       "      <td>0.112981</td>\n",
       "    </tr>\n",
       "  </tbody>\n",
       "</table>\n",
       "</div>"
      ],
      "text/plain": [
       "          Date  Pageviews_cont  Clicks_cont  Enrollments_cont  Payments_cont  \\\n",
       "0  Sat, Oct 11            7723          687             134.0           70.0   \n",
       "1  Sun, Oct 12            9102          779             147.0           70.0   \n",
       "2  Mon, Oct 13           10511          909             167.0           95.0   \n",
       "3  Tue, Oct 14            9871          836             156.0          105.0   \n",
       "4  Wed, Oct 15           10014          837             163.0           64.0   \n",
       "\n",
       "   Grossperday_cont  Netperday_cont  Pageviews_exp  Clicks_exp  \\\n",
       "0          0.195051        0.101892           7716         686   \n",
       "1          0.188703        0.089859           9288         785   \n",
       "2          0.183718        0.104510          10480         884   \n",
       "3          0.186603        0.125598           9867         827   \n",
       "4          0.194743        0.076464           9793         832   \n",
       "\n",
       "   Enrollments_exp  Payments_exp  Grossperday_exp  Netperday_exp  \n",
       "0            105.0          34.0         0.153061       0.049563  \n",
       "1            116.0          91.0         0.147771       0.115924  \n",
       "2            145.0          79.0         0.164027       0.089367  \n",
       "3            138.0          92.0         0.166868       0.111245  \n",
       "4            140.0          94.0         0.168269       0.112981  "
      ]
     },
     "execution_count": 40,
     "metadata": {},
     "output_type": "execute_result"
    }
   ],
   "source": [
    "df_merged_final = df_merged.rename(columns=\n",
    "                                   {\n",
    "                                    'Pageviews_y': 'Pageviews_exp',\n",
    "                                    'Clicks_y': 'Clicks_exp', \n",
    "                                    'Enrollments_y': 'Enrollments_exp', \n",
    "                                    'Payments_y': 'Payments_exp', \n",
    "                                    'Grossperday_y': 'Grossperday_exp', \n",
    "                                    'Netperday_y': 'Netperday_exp', \n",
    "\n",
    "                                    'Pageviews_x': 'Pageviews_cont',\n",
    "                                    'Clicks_x': 'Clicks_cont', \n",
    "                                    'Enrollments_x': 'Enrollments_cont', \n",
    "                                    'Payments_x': 'Payments_cont', \n",
    "                                    'Grossperday_x': 'Grossperday_cont', \n",
    "                                    'Netperday_x': 'Netperday_cont', \n",
    "                                   })\n",
    "df_merged_final.head(5)"
   ]
  },
  {
   "cell_type": "markdown",
   "metadata": {},
   "source": [
    "**3. Difference for Gross/Net Converion rate between control and experiment group**"
   ]
  },
  {
   "cell_type": "code",
   "execution_count": 41,
   "metadata": {},
   "outputs": [
    {
     "data": {
      "text/html": [
       "<div>\n",
       "<style scoped>\n",
       "    .dataframe tbody tr th:only-of-type {\n",
       "        vertical-align: middle;\n",
       "    }\n",
       "\n",
       "    .dataframe tbody tr th {\n",
       "        vertical-align: top;\n",
       "    }\n",
       "\n",
       "    .dataframe thead th {\n",
       "        text-align: right;\n",
       "    }\n",
       "</style>\n",
       "<table border=\"1\" class=\"dataframe\">\n",
       "  <thead>\n",
       "    <tr style=\"text-align: right;\">\n",
       "      <th></th>\n",
       "      <th>Date</th>\n",
       "      <th>Pageviews_cont</th>\n",
       "      <th>Clicks_cont</th>\n",
       "      <th>Enrollments_cont</th>\n",
       "      <th>Payments_cont</th>\n",
       "      <th>Grossperday_cont</th>\n",
       "      <th>Netperday_cont</th>\n",
       "      <th>Pageviews_exp</th>\n",
       "      <th>Clicks_exp</th>\n",
       "      <th>Enrollments_exp</th>\n",
       "      <th>Payments_exp</th>\n",
       "      <th>Grossperday_exp</th>\n",
       "      <th>Netperday_exp</th>\n",
       "      <th>GrossConversionDiff</th>\n",
       "      <th>NetConversionDiff</th>\n",
       "    </tr>\n",
       "  </thead>\n",
       "  <tbody>\n",
       "    <tr>\n",
       "      <td>0</td>\n",
       "      <td>Sat, Oct 11</td>\n",
       "      <td>7723</td>\n",
       "      <td>687</td>\n",
       "      <td>134.0</td>\n",
       "      <td>70.0</td>\n",
       "      <td>0.195051</td>\n",
       "      <td>0.101892</td>\n",
       "      <td>7716</td>\n",
       "      <td>686</td>\n",
       "      <td>105.0</td>\n",
       "      <td>34.0</td>\n",
       "      <td>0.153061</td>\n",
       "      <td>0.049563</td>\n",
       "      <td>0.041990</td>\n",
       "      <td>0.052330</td>\n",
       "    </tr>\n",
       "    <tr>\n",
       "      <td>1</td>\n",
       "      <td>Sun, Oct 12</td>\n",
       "      <td>9102</td>\n",
       "      <td>779</td>\n",
       "      <td>147.0</td>\n",
       "      <td>70.0</td>\n",
       "      <td>0.188703</td>\n",
       "      <td>0.089859</td>\n",
       "      <td>9288</td>\n",
       "      <td>785</td>\n",
       "      <td>116.0</td>\n",
       "      <td>91.0</td>\n",
       "      <td>0.147771</td>\n",
       "      <td>0.115924</td>\n",
       "      <td>0.040933</td>\n",
       "      <td>-0.026065</td>\n",
       "    </tr>\n",
       "    <tr>\n",
       "      <td>2</td>\n",
       "      <td>Mon, Oct 13</td>\n",
       "      <td>10511</td>\n",
       "      <td>909</td>\n",
       "      <td>167.0</td>\n",
       "      <td>95.0</td>\n",
       "      <td>0.183718</td>\n",
       "      <td>0.104510</td>\n",
       "      <td>10480</td>\n",
       "      <td>884</td>\n",
       "      <td>145.0</td>\n",
       "      <td>79.0</td>\n",
       "      <td>0.164027</td>\n",
       "      <td>0.089367</td>\n",
       "      <td>0.019691</td>\n",
       "      <td>0.015144</td>\n",
       "    </tr>\n",
       "    <tr>\n",
       "      <td>3</td>\n",
       "      <td>Tue, Oct 14</td>\n",
       "      <td>9871</td>\n",
       "      <td>836</td>\n",
       "      <td>156.0</td>\n",
       "      <td>105.0</td>\n",
       "      <td>0.186603</td>\n",
       "      <td>0.125598</td>\n",
       "      <td>9867</td>\n",
       "      <td>827</td>\n",
       "      <td>138.0</td>\n",
       "      <td>92.0</td>\n",
       "      <td>0.166868</td>\n",
       "      <td>0.111245</td>\n",
       "      <td>0.019735</td>\n",
       "      <td>0.014353</td>\n",
       "    </tr>\n",
       "    <tr>\n",
       "      <td>4</td>\n",
       "      <td>Wed, Oct 15</td>\n",
       "      <td>10014</td>\n",
       "      <td>837</td>\n",
       "      <td>163.0</td>\n",
       "      <td>64.0</td>\n",
       "      <td>0.194743</td>\n",
       "      <td>0.076464</td>\n",
       "      <td>9793</td>\n",
       "      <td>832</td>\n",
       "      <td>140.0</td>\n",
       "      <td>94.0</td>\n",
       "      <td>0.168269</td>\n",
       "      <td>0.112981</td>\n",
       "      <td>0.026474</td>\n",
       "      <td>-0.036517</td>\n",
       "    </tr>\n",
       "  </tbody>\n",
       "</table>\n",
       "</div>"
      ],
      "text/plain": [
       "          Date  Pageviews_cont  Clicks_cont  Enrollments_cont  Payments_cont  \\\n",
       "0  Sat, Oct 11            7723          687             134.0           70.0   \n",
       "1  Sun, Oct 12            9102          779             147.0           70.0   \n",
       "2  Mon, Oct 13           10511          909             167.0           95.0   \n",
       "3  Tue, Oct 14            9871          836             156.0          105.0   \n",
       "4  Wed, Oct 15           10014          837             163.0           64.0   \n",
       "\n",
       "   Grossperday_cont  Netperday_cont  Pageviews_exp  Clicks_exp  \\\n",
       "0          0.195051        0.101892           7716         686   \n",
       "1          0.188703        0.089859           9288         785   \n",
       "2          0.183718        0.104510          10480         884   \n",
       "3          0.186603        0.125598           9867         827   \n",
       "4          0.194743        0.076464           9793         832   \n",
       "\n",
       "   Enrollments_exp  Payments_exp  Grossperday_exp  Netperday_exp  \\\n",
       "0            105.0          34.0         0.153061       0.049563   \n",
       "1            116.0          91.0         0.147771       0.115924   \n",
       "2            145.0          79.0         0.164027       0.089367   \n",
       "3            138.0          92.0         0.166868       0.111245   \n",
       "4            140.0          94.0         0.168269       0.112981   \n",
       "\n",
       "   GrossConversionDiff  NetConversionDiff  \n",
       "0             0.041990           0.052330  \n",
       "1             0.040933          -0.026065  \n",
       "2             0.019691           0.015144  \n",
       "3             0.019735           0.014353  \n",
       "4             0.026474          -0.036517  "
      ]
     },
     "execution_count": 41,
     "metadata": {},
     "output_type": "execute_result"
    }
   ],
   "source": [
    "df_merged_final[\"GrossConversionDiff\"] = df_merged_final[\"Grossperday_cont\"] -df_merged_final[\"Grossperday_exp\"]\n",
    "df_merged_final[\"NetConversionDiff\"] = df_merged_final[\"Netperday_cont\"] -df_merged_final[\"Netperday_exp\"]\n",
    "\n",
    "df_merged_final.head(5)"
   ]
  },
  {
   "cell_type": "markdown",
   "metadata": {},
   "source": [
    "**4. Get the number of trials and successes**\n"
   ]
  },
  {
   "cell_type": "code",
   "execution_count": 42,
   "metadata": {},
   "outputs": [
    {
     "name": "stdout",
     "output_type": "stream",
     "text": [
      "Number of trials: 23\n",
      "Number of successes Gross Conversion: 4\n",
      "Number of successes Net Conversion: 10\n"
     ]
    }
   ],
   "source": [
    "trials = len(df_merged_final)\n",
    "print(\"Number of trials: \" + str(trials))\n",
    "\n",
    "successes_gross = df_merged_final.query('GrossConversionDiff < 0')[\"GrossConversionDiff\"].count()\n",
    "print(\"Number of successes Gross Conversion: \" + str(successes_gross))\n",
    "\n",
    "successes_net = df_merged_final.query('NetConversionDiff < 0')[\"NetConversionDiff\"].count()\n",
    "print(\"Number of successes Net Conversion: \" + str(successes_net))"
   ]
  },
  {
   "cell_type": "markdown",
   "metadata": {},
   "source": [
    "**5. Binomial test to calculate the p-value**"
   ]
  },
  {
   "cell_type": "markdown",
   "metadata": {},
   "source": [
    "**5.1 Using Scipy binom_test**\n",
    "\n",
    "Source: https://docs.scipy.org/doc/scipy/reference/generated/scipy.stats.binom_test.html"
   ]
  },
  {
   "cell_type": "code",
   "execution_count": 43,
   "metadata": {},
   "outputs": [
    {
     "name": "stdout",
     "output_type": "stream",
     "text": [
      "p_value_gross_rounded: 0.0026\n",
      "p_value_net_rounded: 0.6776\n"
     ]
    }
   ],
   "source": [
    "from scipy.stats import binom_test\n",
    "\n",
    "p_value_gross = binom_test(successes_gross, trials, p=0.5, alternative='two-sided')\n",
    "p_value_gross_rounded=round(p_value_gross,4)\n",
    "print(\"p_value_gross_rounded: \" + str(p_value_gross_rounded))\n",
    "\n",
    "p_value_net = binom_test(successes_net, trials, p=0.5, alternative='two-sided')\n",
    "p_value_net_rounded=round(p_value_net,4)\n",
    "print(\"p_value_net_rounded: \" + str(p_value_net_rounded))\n"
   ]
  },
  {
   "cell_type": "markdown",
   "metadata": {},
   "source": [
    "**5.2 Using Online Calculator**\n",
    "\n",
    "Source:\n",
    "https://www.graphpad.com/quickcalcs/binomial1\n",
    "\n",
    "- For the Gross Conversion: \n",
    "    - \"The two-tail P value is 0.0026\n",
    "This is the chance of observing either 4 or fewer successes, or 19 or more successes, in 23 trials.\"\n",
    "- For the Net Conversion: \n",
    "    - \"The two-tail P value is 0.6776\n",
    "This is the chance of observing either 10 or fewer successes, or 13 or more successes, in 23 trials.\"\n",
    "\n",
    "**5.3 Interpreation**\n",
    "- For the Gross Conversion: \n",
    "    - The two-tail P value is 0.0026 being smaller (<) than the significance level alpha 0,05. This means that we have **strong evidence to reject null hypothesis H0 and the effect for the gross conversion is statistically relevant**. In other words: the effect between the control and experimental group can be considered as significant and the observed effect is not random.\n",
    "    \n",
    "- For the Net Conversion: \n",
    "    - \"The two-tail P value is 0.6776 being higher (>) than the significance level alpha 0,05. This means that we **have not enough evidence to reject null hypothesis H0 and the effect for the gross conversion is statistically NOT relevant**. In other words: the effect between the control and experimental group can be considered as insignificant and the observed effect is by random chance.\n"
   ]
  },
  {
   "cell_type": "markdown",
   "metadata": {},
   "source": [
    "## 9. Summary"
   ]
  },
  {
   "cell_type": "markdown",
   "metadata": {},
   "source": [
    "**General setup:**\n",
    "Udacity carried out by Udacity in order to separate students into a control and experimental group. The idea behind it was that the experimental group was asked about the time they would be able to spend on the courses when clicking the stage “start free trial”. However, the control group did not receive this question.\n",
    "The hypothesis was that this setup in the experimental group would result in less student frustration as there would be a clearer separation between students spending enough time and potentially not leaving after the free trial and therefore increase payments to Udactiy, whereas the students without enough time would be directed towards free content.\n",
    "\n",
    "**Metrics:**\n",
    "The unit of diversion is a cookie, although if the student enrolls in the free trial, they are tracked by user-id from that point forward. The same user-id cannot enroll in the free \n",
    "\n",
    "1. We first divided our metrics into invariant metric being a metric that should not be affected by the changes in the experiment and evaluation metrics, which are metrics used to measure the impact or the changes made in the experiment\n",
    "\n",
    "We chose the following invariant and evaluation metrics:\n",
    "- Invariant metrics:\n",
    "    - Number of cookies\n",
    "    - Number of clicks:\n",
    "    - Click-through-probability\n",
    "- Evaluation metrics\n",
    "    - Gross conversion:\n",
    "    - Net conversion\n",
    "\n",
    "\n",
    "2. Secondly, we calculated the analytical standard deviation for our two evaluation metrics: Gross conversion and Net conversion\n",
    "\n",
    "3. After this, we looked at the sizing and used the analytical standard deviation as well as Minimum Detectable Effect and baseline conversion rates to calculate the necessary sample size and total sample size. \n",
    "Once we had this we were able to calculate the number of pages views = Total Sample Size / / Click-through-probability\n",
    "\n",
    "4. Bonferroni correction correction: we chose not to use the Bonferroni correction for the following reasons\n",
    "usually the Bonferroni correction is used to adjust p-values in order to control the family-wise error rate (FWER) in multiple hypothesis testing or in other words the purpose is to reduce the probability of a type I error (false-positive) when making a larger number of hypothesis tests. In this case we are only a control and experimental group with 23 observations. Hence, the number of tests is fairly small and I will not use the Bonferroni correction.\n",
    "Besides, the Bonferroni correction is known for some quite heavy assumptions:\n",
    "    - Conservative approach resulting in quite low adjusted significance levels, which can make it quite difficult to detect true effects\n",
    "    - Independence assumption: Bonferroni correction assumes tests to be conducted independent of each other. This is not necessarily the case for Gross and Net Conversion\n",
    "    - Type II error rate:  Bonferroni correction can indirectly affect the Type 2 error rate\n",
    "\n",
    "5. In the next step we checked the Duration vs. Exposure. Here we found that allocating 100 % of the traffic to the experiment was too risky and decided to go with 50% of the traffic resulting in 35 days to run the experiment.\n",
    "\n",
    "6. After this, we performed Sanity checks for our three invariant metrics:\n",
    "Number of cookies\n",
    "Number of clicks:.\n",
    "Click-through-probability\n",
    "We found that all metrics  passed the sanity check as all observed values were between the upper and lower bounds of the CI. \n",
    "\n",
    "7. After this, we performed the Effect Size Tests to see if a difference between a control and experimental group is also practically significant.\n",
    "We have seen that our Gross Conversion Metric is very well practically and statistically relevant. However, the Net Conversion Metric is NOT practically and statistically.\n",
    "\n",
    "8. Finally we ran a Sign test, calculated the p-value to check, if we had evidence to reject null hypothesis and the effect was statistically relevant\n",
    "We found that: \n",
    "    - Gross Conversion: The effect between the control and experimental group can be considered as significant and the observed effect is not random.\n",
    "\n",
    "    - Net Conversion: the effect between the control and experimental group can be considered as insignificant and the observed effect is by random chance.\n",
    "\n",
    "9. No discrepancies between the effect size test and the sign test were found\n"
   ]
  },
  {
   "cell_type": "markdown",
   "metadata": {},
   "source": [
    "## 10. Recommendation\n",
    "\n",
    "\n",
    "To give a proper recommendation, let us first recall the initial goal of the experiment. We wanted to reduce student frustration and decrease the number of students leaving after the free trial to ultimately increase the enrollments and payments.\n",
    "\n",
    "Our results suggest that we found a **statistically and practically significant decrease in Gross Conversion**, which is good. \n",
    "However, we **did not see any statistically and practically significant increase of the Net Conversion** being the metrics that we care about as it signifies students staying longer than the free trial and ultimately increasing payments. \n",
    "\n",
    "Hence, **I recommend not launch the changed version** of the Udacity site but rather perform more experiments to get more clarity."
   ]
  },
  {
   "cell_type": "markdown",
   "metadata": {},
   "source": [
    "## 11. Follow-Up Experiment\n",
    "\n",
    "To make a suggestion for a proper follow-up experiment, let us focus on our defined goals once more:\n",
    "- We want to reduce student frustration\n",
    "- decrease the number of students leaving after the free trial\n",
    "- Increase the enrollments and payments meaning the net conversion\n",
    "\n",
    "**Ideas:**\n",
    "One can think of different ways to do so: improve the content, improve the user experience, enhance visibility on where students stand compared to where they should be and additional benefits.\n",
    "\n",
    "**We want to focus on the additional benefits:** \n",
    "\n",
    "My suggestion is to decrease the number of students leaving after the trial by encouraging them to stay longer once they want to leave after the free trial. This could happen through **discoiunts** for the first three months compared to the original price. This way, Udacity **might earn less in the short-term, but motivate and persuade students to stay long-term**.\n",
    "To do so, a modified version of the homepage after the free trial would be needed offering the discussed discount when trying to end the free trial.\n",
    "\n",
    "**Experiment design:**\n",
    "- For students that have just started the free trial we would separate  them between a control and an experimental group randomly. The experimental group would get to  see the discount features, whereas the control group would still get the old homepage\n",
    "\n",
    "**Null Hypothesis:**\n",
    "- The new discount feature **will not increase** the retention of students (remain enrolled past the 14-day boundary)\n",
    "\n",
    "**Alternative Hypothesis:**\n",
    "- The new discount feature **will increase** the retention of students (remain enrolled past the 14-day boundary)\n",
    "\n",
    "\n",
    "**Unit of Diversion:**\n",
    "- As we would need to control the retention  between experimental and control group, the user-id seems an appropriate unit of diversion \n",
    "\n",
    "**Invariant Metric:**\n",
    "- The invariant metric is a metric that should not be affected by the changes. Hence, the **number of user-ids** having enrolled in the free-trial could be suitable. In this case a cookie will be necessary in the unit of diversion.\n",
    "\n",
    "**Evaluation Metric:**\n",
    "- Evaluation metrics are metrics used to measure the impact or the changes made in the experiment. Hence, the **Retention** would make sense in order to see if students stay enrolled longer. We could also use the **net conversion** again to check for the improvement of the financial performance."
   ]
  },
  {
   "cell_type": "markdown",
   "metadata": {},
   "source": [
    "## 12. External resources\n",
    "\n",
    "- Bonferroni Correction: https://www.investopedia.com/terms/b/bonferroni-test.asp\n",
    "- Sample Size calculator: https://www.evanmiller.org/ab-testing/sample-size.html\n",
    "- Effect size test:  https://www.scribbr.com/statistics/effect-size/#:~:text=Effect%20size%20tells%20you%20how,size%20indicates%20limited%20practical%20applications.\n",
    "- Sign test: https://www.statisticssolutions.com/free-resources/directory-of-statistical-analyses/sign-test/\n",
    "- Sign and binomial test:\n",
    "    - https://www.graphpad.com/quickcalcs/binomial1.cfm\n",
    "    - https://docs.scipy.org/doc/scipy/reference/generated/scipy.stats.binom_test.html\n",
    " "
   ]
  }
 ],
 "metadata": {
  "kernelspec": {
   "display_name": "Python 3",
   "language": "python",
   "name": "python3"
  },
  "language_info": {
   "codemirror_mode": {
    "name": "ipython",
    "version": 3
   },
   "file_extension": ".py",
   "mimetype": "text/x-python",
   "name": "python",
   "nbconvert_exporter": "python",
   "pygments_lexer": "ipython3",
   "version": "3.7.4"
  }
 },
 "nbformat": 4,
 "nbformat_minor": 2
}
